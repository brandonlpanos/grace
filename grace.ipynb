{
 "cells": [
  {
   "cell_type": "code",
   "execution_count": 1,
   "id": "6507da90",
   "metadata": {},
   "outputs": [],
   "source": [
    "import os\n",
    "import pandas \n",
    "import numpy as np\n",
    "import matplotlib.pyplot as plt"
   ]
  },
  {
   "cell_type": "code",
   "execution_count": 2,
   "id": "979d97ac",
   "metadata": {},
   "outputs": [],
   "source": [
    "def res_file_to_df(file):\n",
    "    '''\n",
    "    Converts a res file into a pandas DataFrame for a single day\n",
    "    '''\n",
    "    # header information\n",
    "    columns = ['MJD', \n",
    "               'frac of a day', \n",
    "               'GPS range AB [m]', \n",
    "               'GPS range rate AB [m/s]', \n",
    "               'Kband range [m]',\n",
    "               'Kband range rate [m/s]',\n",
    "               'O-C range rate [m/s]',\n",
    "               'Latitude [deg]',\n",
    "               'Longitude [deg]',\n",
    "               'Arg. of lat. [deg]',\n",
    "               'beta [deg]']\n",
    "    # collect data\n",
    "    data_array = [] # empty container \n",
    "    with open(path) as f:\n",
    "        lines = f.readlines()\n",
    "        for i, line in enumerate(lines):\n",
    "            if i < 12: continue # skip header information\n",
    "            line_entries = line.split(' ') # split lines with space delimiter\n",
    "            line_entries = np.array(line_entries) # convert to numpy array\n",
    "            line_entries = np.delete(line_entries, np.argwhere(line_entries=='')).astype(float) # convert to floats\n",
    "            data_array.append(line_entries) # collect vectors\n",
    "    data_array = np.vstack(data_array) # stack vectors into an array \n",
    "    df = pandas.DataFrame(data=data_array,columns=columns) # convert stack to pandas DataFrame\n",
    "    return df"
   ]
  },
  {
   "cell_type": "markdown",
   "id": "c7b9befb",
   "metadata": {},
   "source": [
    "## Calculate the MI  \n",
    "Setup for the MINE-network  \n",
    "Use the post fit residuals (7th column O-C range rate [m/s]) as one random variable  \n",
    "The other random variable is a vector of what remains. This vector gives the position of the satellite over earth with some redundant infomation, like different coordinates and time stamps.  \n",
    "For the upper channel we feed in vectors and residuals as they appear in the tables  \n",
    "For the lower channel we shuffle the residuals  \n",
    "The network will then try and distinguish between residuals tied to actual positions and those that are random   \n",
    "If the network can distinguish then the position is important, i.e., some signal has been consumed into the residuals"
   ]
  },
  {
   "cell_type": "code",
   "execution_count": 3,
   "id": "5cf5cafe",
   "metadata": {
    "scrolled": false
   },
   "outputs": [
    {
     "name": "stdout",
     "output_type": "stream",
     "text": [
      "(5981627, 10) (5981627,)\n"
     ]
    }
   ],
   "source": [
    "# create datasets by concatenating data across all days from all 12 months\n",
    "X = None\n",
    "y = None\n",
    "root_path  = '/Users/brandonlpanos/Desktop/grace/datasets/'\n",
    "for month in os.listdir(root_path):    \n",
    "    for day in os.listdir(root_path + month):\n",
    "        path = root_path + month + '/' + day\n",
    "        \n",
    "        try: df = res_file_to_df(path) # convert res file into pandas DataFrame\n",
    "        except: continue # some datasets are empty, if any problems just skip\n",
    "            \n",
    "        y_day = np.array(df['O-C range rate [m/s]']) # target random variable residuals \n",
    "        df2 = df.copy()\n",
    "        df2 = df2.drop(['O-C range rate [m/s]'], axis=1) # drop target variable from df\n",
    "        X_day = df2.to_numpy() # construct matrix out of remaining columns\n",
    "        \n",
    "        # concatenate x matrices\n",
    "        try: X = np.concatenate( (X, X_day), axis=0 )\n",
    "        except: X = X_day\n",
    "        \n",
    "        # concatenate y vectors \n",
    "        try: y = np.concatenate( (y, y_day) )\n",
    "        except: y = y_day\n",
    "print(X.shape, y.shape)"
   ]
  },
  {
   "cell_type": "code",
   "execution_count": 4,
   "id": "16770d32",
   "metadata": {},
   "outputs": [],
   "source": [
    "# np.savez('/Users/brandonlpanos/Desktop/grace/data', X=X, y=y)"
   ]
  },
  {
   "cell_type": "code",
   "execution_count": 5,
   "id": "9864630f",
   "metadata": {},
   "outputs": [
    {
     "name": "stdout",
     "output_type": "stream",
     "text": [
      "(5981627, 10) (5981627,)\n"
     ]
    }
   ],
   "source": [
    "fhand = np.load('/Users/brandonlpanos/Desktop/grace/data.npz')\n",
    "X = fhand['X']\n",
    "y = fhand['y']\n",
    "print(X.shape, y.shape)"
   ]
  },
  {
   "cell_type": "code",
   "execution_count": null,
   "id": "d98f00e3",
   "metadata": {},
   "outputs": [],
   "source": []
  }
 ],
 "metadata": {
  "kernelspec": {
   "display_name": "Lecture_env",
   "language": "python",
   "name": "lecture_env"
  },
  "language_info": {
   "codemirror_mode": {
    "name": "ipython",
    "version": 3
   },
   "file_extension": ".py",
   "mimetype": "text/x-python",
   "name": "python",
   "nbconvert_exporter": "python",
   "pygments_lexer": "ipython3",
   "version": "3.9.12"
  }
 },
 "nbformat": 4,
 "nbformat_minor": 5
}
