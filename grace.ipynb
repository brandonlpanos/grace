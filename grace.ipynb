{
 "cells": [
  {
   "cell_type": "code",
   "execution_count": 7,
   "id": "6507da90",
   "metadata": {},
   "outputs": [],
   "source": [
    "import os\n",
    "import pandas \n",
    "import numpy as np\n",
    "import matplotlib.pyplot as plt\n",
    "from matplotlib import rcParams\n",
    "from matplotlib.ticker import MultipleLocator\n",
    "from matplotlib.colors import LinearSegmentedColormap"
   ]
  },
  {
   "cell_type": "code",
   "execution_count": 2,
   "id": "979d97ac",
   "metadata": {},
   "outputs": [],
   "source": [
    "def res_file_to_df(file):\n",
    "    '''\n",
    "    Converts a res file into a pandas DataFrame for a single day\n",
    "    '''\n",
    "    # header information\n",
    "    columns = ['MJD', \n",
    "               'frac of a day', \n",
    "               'GPS range AB [m]', \n",
    "               'GPS range rate AB [m/s]', \n",
    "               'Kband range [m]',\n",
    "               'Kband range rate [m/s]',\n",
    "               'O-C range rate [m/s]',\n",
    "               'Latitude [deg]',\n",
    "               'Longitude [deg]',\n",
    "               'Arg. of lat. [deg]',\n",
    "               'beta [deg]']\n",
    "    # collect data\n",
    "    data_array = [] # empty container \n",
    "    with open(path) as f:\n",
    "        lines = f.readlines()\n",
    "        for i, line in enumerate(lines):\n",
    "            if i < 12: continue # skip header information\n",
    "            line_entries = line.split(' ') # split lines with space delimiter\n",
    "            line_entries = np.array(line_entries) # convert to numpy array\n",
    "            line_entries = np.delete(line_entries, np.argwhere(line_entries=='')).astype(float) # convert to floats\n",
    "            data_array.append(line_entries) # collect vectors\n",
    "    data_array = np.vstack(data_array) # stack vectors into an array \n",
    "    df = pandas.DataFrame(data=data_array,columns=columns) # convert stack to pandas DataFrame\n",
    "    return df"
   ]
  },
  {
   "cell_type": "markdown",
   "id": "c7b9befb",
   "metadata": {},
   "source": [
    "## Plan\n",
    "Setup for the MINE-network  \n",
    "Use the post fit residuals (7th column O-C range rate [m/s]) as one random variable  \n",
    "The other random variable is a vector of what remains. This vector gives the position of the satellite over earth with some redundant infomation, like different coordinates and time stamps.  \n",
    "For the upper channel we feed in vectors and residuals as they appear in the tables  \n",
    "For the lower channel we shuffle the residuals  \n",
    "The network will then try and distinguish between residuals tied to actual positions and those that are random   \n",
    "If the network can distinguish then the position is important, i.e., some signal has been consumed into the residuals"
   ]
  },
  {
   "cell_type": "code",
   "execution_count": 3,
   "id": "5cf5cafe",
   "metadata": {
    "scrolled": false
   },
   "outputs": [
    {
     "name": "stdout",
     "output_type": "stream",
     "text": [
      "(5981627, 10) (5981627,)\n"
     ]
    }
   ],
   "source": [
    "# create datasets by concatenating data across all days from all 12 months\n",
    "X = None\n",
    "y = None\n",
    "root_path  = '/Users/brandonlpanos/Desktop/grace/datasets/'\n",
    "for month in os.listdir(root_path):    \n",
    "    for day in os.listdir(root_path + month):\n",
    "        path = root_path + month + '/' + day\n",
    "        \n",
    "        try: df = res_file_to_df(path) # convert res file into pandas DataFrame\n",
    "        except: continue # some datasets are empty, if any problems just skip\n",
    "            \n",
    "        y_day = np.array(df['O-C range rate [m/s]']) # target random variable residuals \n",
    "        df2 = df.copy()\n",
    "        df2 = df2.drop(['O-C range rate [m/s]'], axis=1) # drop target variable from df\n",
    "        X_day = df2.to_numpy() # construct matrix out of remaining columns\n",
    "        \n",
    "        # concatenate x matrices\n",
    "        try: X = np.concatenate( (X, X_day), axis=0 )\n",
    "        except: X = X_day\n",
    "        \n",
    "        # concatenate y vectors \n",
    "        try: y = np.concatenate( (y, y_day) )\n",
    "        except: y = y_day\n",
    "print(X.shape, y.shape)"
   ]
  },
  {
   "cell_type": "code",
   "execution_count": 4,
   "id": "16770d32",
   "metadata": {},
   "outputs": [],
   "source": [
    "# np.savez('/Users/brandonlpanos/Desktop/grace/data', X=X, y=y)"
   ]
  },
  {
   "cell_type": "code",
   "execution_count": 5,
   "id": "9864630f",
   "metadata": {},
   "outputs": [
    {
     "name": "stdout",
     "output_type": "stream",
     "text": [
      "(5981627, 10) (5981627,)\n"
     ]
    }
   ],
   "source": [
    "fhand = np.load('/Users/brandonlpanos/Desktop/grace/data.npz')\n",
    "X = fhand['X']\n",
    "y = fhand['y']\n",
    "print(X.shape, y.shape)"
   ]
  },
  {
   "cell_type": "markdown",
   "id": "39e667e1",
   "metadata": {},
   "source": [
    "## MINE-network "
   ]
  },
  {
   "cell_type": "code",
   "execution_count": 9,
   "id": "d98f00e3",
   "metadata": {},
   "outputs": [],
   "source": [
    "import torch\n",
    "import torch.nn as nn\n",
    "import torch.optim as optim\n",
    "import torch.nn.functional as F\n",
    "import torchvision.transforms as T"
   ]
  },
  {
   "cell_type": "code",
   "execution_count": null,
   "id": "a682ba72",
   "metadata": {},
   "outputs": [],
   "source": [
    "# data loader that generates samples of joints and marginals \n",
    "class MINEDataLoader(torch.utils.data.Dataset):\n",
    "    def __init__(self, line1='MgII', line2='CII', num_samples=1000):\n",
    "        self.num_samples = num_samples\n",
    "        data1 = np.load('/Users/brandonlpanos/Desktop/grace/data.npz')['X']\n",
    "        data2 = np.load('/Users/brandonlpanos/Desktop/grace/data.npz')['y']\n",
    "        data1, data2 = transform2(data1, data2, num_samples)\n",
    "        self.nprof1, self.nprof2 = transform3(data1, data2)\n",
    "        \n",
    "    def __len__(self):\n",
    "        return (self.num_samples * 2)\n",
    "    \n",
    "    def __getitem__(self, indx):\n",
    "        x_sample = torch.from_numpy(self.nprof1).type(torch.FloatTensor)\n",
    "        y_sample = torch.from_numpy(self.nprof2).type(torch.FloatTensor)\n",
    "        y_shuffle = torch.from_numpy(np.random.permutation(y_sample)).type(torch.FloatTensor)\n",
    "        return x_sample, y_sample, y_shuffle"
   ]
  },
  {
   "cell_type": "code",
   "execution_count": 142,
   "id": "0fb2fa9c",
   "metadata": {},
   "outputs": [],
   "source": [
    "# data loader that generates samples of joints and marginals \n",
    "class MINEDataLoader(torch.utils.data.Dataset):\n",
    "    def __init__(self, path_to_data, n_samples):\n",
    "        self.n_samples = n_samples\n",
    "        self.data1 = torch.from_numpy(np.load(path_to_data)['X']).type(torch.FloatTensor)\n",
    "        self.data2  = torch.from_numpy(np.load(path_to_data)['y']).type(torch.FloatTensor)\n",
    "\n",
    "    def __len__(self):\n",
    "        return len(self.data2)\n",
    "\n",
    "    def __getitem__(self, indx):\n",
    "        rand_index = np.random.randint(0, len(self.data1)-1, self.n_samples)\n",
    "        x_sample = self.data1[rand_index]\n",
    "        y_sample = self.data2[rand_index]\n",
    "        y_shuffle = self.data2[np.random.randint(0, len(self.data2)-1, len(y_sample))]\n",
    "        return x_sample, y_sample, y_shuffle"
   ]
  },
  {
   "cell_type": "code",
   "execution_count": 155,
   "id": "c2ede418",
   "metadata": {},
   "outputs": [],
   "source": [
    "path_to_data = '/Users/brandonlpanos/Desktop/grace/data.npz'\n",
    "dataloader = torch.utils.data.DataLoader(MINEDataLoader(path_to_data, 1000))"
   ]
  },
  {
   "cell_type": "code",
   "execution_count": 210,
   "id": "384505b9",
   "metadata": {},
   "outputs": [
    {
     "name": "stdout",
     "output_type": "stream",
     "text": [
      "torch.Size([1, 1000, 10]) torch.Size([1, 1000]) torch.Size([1, 1000])\n"
     ]
    },
    {
     "data": {
      "image/png": "[encoded data removed]",
      "text/plain": [
       "<Figure size 640x480 with 1 Axes>"
      ]
     },
     "metadata": {},
     "output_type": "display_data"
    }
   ],
   "source": [
    "X, y, yy = next(iter(dataloader))\n",
    "print(X.shape, y.shape, yy.shape)\n",
    "plt.scatter(range(len(y[0])),y[0], c='grey', s=4)\n",
    "plt.scatter(range(len(yy[0])),yy[0], c='dodgerblue', s=4)\n",
    "plt.ylim(1e-6,-1e-6)\n",
    "plt.show()"
   ]
  },
  {
   "cell_type": "code",
   "execution_count": 214,
   "id": "3d22aaaa",
   "metadata": {},
   "outputs": [],
   "source": [
    "# Define Mine-network using PyTorch\n",
    "class MINEnetwork(nn.Module):\n",
    "    def __init__(self, d1, dz):\n",
    "        super(MINEnetwork, self).__init__()\n",
    "        self.fc1 = nn.Linear(d1, dz)\n",
    "        self.fc2 = nn.Linear(dz + 1, 2)\n",
    "        self.fc3 = nn.Linear(2, 1)\n",
    "\n",
    "    def forward(self, x, y):\n",
    "        x = self.fc1(x)\n",
    "        x = F.relu(x)\n",
    "        out = torch.cat((x, y))\n",
    "        out = self.fc2(out) \n",
    "        out = F.relu(out)\n",
    "        out = self.fc3(out)\n",
    "        return out"
   ]
  },
  {
   "cell_type": "code",
   "execution_count": 213,
   "id": "94889d7a",
   "metadata": {},
   "outputs": [
    {
     "name": "stdout",
     "output_type": "stream",
     "text": [
      "torch.Size([1, 1000, 10]) torch.Size([1, 1000])\n"
     ]
    }
   ],
   "source": [
    "X, y, yy = next(iter(dataloader))\n",
    "print(X.shape, y.shape)"
   ]
  },
  {
   "cell_type": "code",
   "execution_count": 228,
   "id": "71122eb8",
   "metadata": {},
   "outputs": [
    {
     "name": "stdout",
     "output_type": "stream",
     "text": [
      "torch.Size([1, 1000, 3])\n"
     ]
    },
    {
     "ename": "RuntimeError",
     "evalue": "Tensors must have same number of dimensions: got 3 and 1",
     "output_type": "error",
     "traceback": [
      "\u001b[0;31m---------------------------------------------------------------------------\u001b[0m",
      "\u001b[0;31mRuntimeError\u001b[0m                              Traceback (most recent call last)",
      "Cell \u001b[0;32mIn [228], line 6\u001b[0m\n\u001b[1;32m      4\u001b[0m out \u001b[39m=\u001b[39m fc1(X)\n\u001b[1;32m      5\u001b[0m \u001b[39mprint\u001b[39m(out\u001b[39m.\u001b[39mshape)\n\u001b[0;32m----> 6\u001b[0m out \u001b[39m=\u001b[39m torch\u001b[39m.\u001b[39;49mcat((out, torch\u001b[39m.\u001b[39;49mTensor(\u001b[39m5\u001b[39;49m)\u001b[39m.\u001b[39;49mtype(torch\u001b[39m.\u001b[39;49mFloatTensor)))\n\u001b[1;32m      7\u001b[0m fc2 \u001b[39m=\u001b[39m nn\u001b[39m.\u001b[39mLinear(dz \u001b[39m+\u001b[39m \u001b[39m1\u001b[39m, \u001b[39m2\u001b[39m)\n\u001b[1;32m      8\u001b[0m out \u001b[39m=\u001b[39m fc2(out)\n",
      "\u001b[0;31mRuntimeError\u001b[0m: Tensors must have same number of dimensions: got 3 and 1"
     ]
    }
   ],
   "source": [
    "d1 = 10\n",
    "dz = 3\n",
    "fc1 = nn.Linear(d1, dz)\n",
    "out = fc1(X)\n",
    "print(out.shape)\n",
    "out = torch.cat((out, torch.Tensor(5).type(torch.FloatTensor)))\n",
    "fc2 = nn.Linear(dz + 1, 2)\n",
    "out = fc2(out)\n",
    "print(out.shape)\n"
   ]
  },
  {
   "cell_type": "code",
   "execution_count": null,
   "id": "4da11609",
   "metadata": {},
   "outputs": [],
   "source": []
  },
  {
   "cell_type": "code",
   "execution_count": null,
   "id": "09208253",
   "metadata": {},
   "outputs": [],
   "source": []
  },
  {
   "cell_type": "code",
   "execution_count": null,
   "id": "dff7d444",
   "metadata": {},
   "outputs": [],
   "source": [
    "# Define the network in the figure using PyTorch\n",
    "class MIEstimator1(nn.Module):\n",
    "    def __init__(self, d1, d2, d_z):\n",
    "        super(MIEstimator1, self).__init__()\n",
    "        self.fc1 = nn.Linear(d1, d_z)\n",
    "        self.fc2 = nn.Linear(d2, d_z)\n",
    "        self.fc3 = nn.Linear(2*d_z, d_z)\n",
    "        self.fc4 = nn.Linear(d_z, 1)\n",
    "\n",
    "    def forward(self, x, y):\n",
    "        x = self.fc1(x)\n",
    "        y = self.fc2(y)\n",
    "        out = torch.cat((x, y), 2)\n",
    "        out = self.fc3(out)\n",
    "        out = F.relu(out)\n",
    "        out = self.fc4(out)        \n",
    "        return out\n"
   ]
  }
 ],
 "metadata": {
  "kernelspec": {
   "display_name": "Lecture_env",
   "language": "python",
   "name": "lecture_env"
  },
  "language_info": {
   "codemirror_mode": {
    "name": "ipython",
    "version": 3
   },
   "file_extension": ".py",
   "mimetype": "text/x-python",
   "name": "python",
   "nbconvert_exporter": "python",
   "pygments_lexer": "ipython3",
   "version": "3.9.12"
  }
 },
 "nbformat": 4,
 "nbformat_minor": 5
}
